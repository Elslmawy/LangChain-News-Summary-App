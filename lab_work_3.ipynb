{
  "nbformat": 4,
  "nbformat_minor": 0,
  "metadata": {
    "colab": {
      "provenance": []
    },
    "kernelspec": {
      "name": "python3",
      "display_name": "Python 3"
    },
    "language_info": {
      "name": "python"
    }
  },
  "cells": [
    {
      "cell_type": "code",
      "source": [
        "!pip install langchain"
      ],
      "metadata": {
        "colab": {
          "base_uri": "https://localhost:8080/"
        },
        "id": "beiCT5H2ruct",
        "outputId": "6ae0dc03-3bf1-4b37-fc89-7d08914981cc"
      },
      "execution_count": 8,
      "outputs": [
        {
          "output_type": "stream",
          "name": "stdout",
          "text": [
            "Requirement already satisfied: langchain in /usr/local/lib/python3.11/dist-packages (0.3.20)\n",
            "Requirement already satisfied: langchain-core<1.0.0,>=0.3.41 in /usr/local/lib/python3.11/dist-packages (from langchain) (0.3.44)\n",
            "Requirement already satisfied: langchain-text-splitters<1.0.0,>=0.3.6 in /usr/local/lib/python3.11/dist-packages (from langchain) (0.3.6)\n",
            "Requirement already satisfied: langsmith<0.4,>=0.1.17 in /usr/local/lib/python3.11/dist-packages (from langchain) (0.3.13)\n",
            "Requirement already satisfied: pydantic<3.0.0,>=2.7.4 in /usr/local/lib/python3.11/dist-packages (from langchain) (2.10.6)\n",
            "Requirement already satisfied: SQLAlchemy<3,>=1.4 in /usr/local/lib/python3.11/dist-packages (from langchain) (2.0.39)\n",
            "Requirement already satisfied: requests<3,>=2 in /usr/local/lib/python3.11/dist-packages (from langchain) (2.32.3)\n",
            "Requirement already satisfied: PyYAML>=5.3 in /usr/local/lib/python3.11/dist-packages (from langchain) (6.0.2)\n",
            "Requirement already satisfied: tenacity!=8.4.0,<10.0.0,>=8.1.0 in /usr/local/lib/python3.11/dist-packages (from langchain-core<1.0.0,>=0.3.41->langchain) (9.0.0)\n",
            "Requirement already satisfied: jsonpatch<2.0,>=1.33 in /usr/local/lib/python3.11/dist-packages (from langchain-core<1.0.0,>=0.3.41->langchain) (1.33)\n",
            "Requirement already satisfied: packaging<25,>=23.2 in /usr/local/lib/python3.11/dist-packages (from langchain-core<1.0.0,>=0.3.41->langchain) (24.2)\n",
            "Requirement already satisfied: typing-extensions>=4.7 in /usr/local/lib/python3.11/dist-packages (from langchain-core<1.0.0,>=0.3.41->langchain) (4.12.2)\n",
            "Requirement already satisfied: httpx<1,>=0.23.0 in /usr/local/lib/python3.11/dist-packages (from langsmith<0.4,>=0.1.17->langchain) (0.28.1)\n",
            "Requirement already satisfied: orjson<4.0.0,>=3.9.14 in /usr/local/lib/python3.11/dist-packages (from langsmith<0.4,>=0.1.17->langchain) (3.10.15)\n",
            "Requirement already satisfied: requests-toolbelt<2.0.0,>=1.0.0 in /usr/local/lib/python3.11/dist-packages (from langsmith<0.4,>=0.1.17->langchain) (1.0.0)\n",
            "Requirement already satisfied: zstandard<0.24.0,>=0.23.0 in /usr/local/lib/python3.11/dist-packages (from langsmith<0.4,>=0.1.17->langchain) (0.23.0)\n",
            "Requirement already satisfied: annotated-types>=0.6.0 in /usr/local/lib/python3.11/dist-packages (from pydantic<3.0.0,>=2.7.4->langchain) (0.7.0)\n",
            "Requirement already satisfied: pydantic-core==2.27.2 in /usr/local/lib/python3.11/dist-packages (from pydantic<3.0.0,>=2.7.4->langchain) (2.27.2)\n",
            "Requirement already satisfied: charset-normalizer<4,>=2 in /usr/local/lib/python3.11/dist-packages (from requests<3,>=2->langchain) (3.4.1)\n",
            "Requirement already satisfied: idna<4,>=2.5 in /usr/local/lib/python3.11/dist-packages (from requests<3,>=2->langchain) (3.10)\n",
            "Requirement already satisfied: urllib3<3,>=1.21.1 in /usr/local/lib/python3.11/dist-packages (from requests<3,>=2->langchain) (2.3.0)\n",
            "Requirement already satisfied: certifi>=2017.4.17 in /usr/local/lib/python3.11/dist-packages (from requests<3,>=2->langchain) (2025.1.31)\n",
            "Requirement already satisfied: greenlet!=0.4.17 in /usr/local/lib/python3.11/dist-packages (from SQLAlchemy<3,>=1.4->langchain) (3.1.1)\n",
            "Requirement already satisfied: anyio in /usr/local/lib/python3.11/dist-packages (from httpx<1,>=0.23.0->langsmith<0.4,>=0.1.17->langchain) (3.7.1)\n",
            "Requirement already satisfied: httpcore==1.* in /usr/local/lib/python3.11/dist-packages (from httpx<1,>=0.23.0->langsmith<0.4,>=0.1.17->langchain) (1.0.7)\n",
            "Requirement already satisfied: h11<0.15,>=0.13 in /usr/local/lib/python3.11/dist-packages (from httpcore==1.*->httpx<1,>=0.23.0->langsmith<0.4,>=0.1.17->langchain) (0.14.0)\n",
            "Requirement already satisfied: jsonpointer>=1.9 in /usr/local/lib/python3.11/dist-packages (from jsonpatch<2.0,>=1.33->langchain-core<1.0.0,>=0.3.41->langchain) (3.0.0)\n",
            "Requirement already satisfied: sniffio>=1.1 in /usr/local/lib/python3.11/dist-packages (from anyio->httpx<1,>=0.23.0->langsmith<0.4,>=0.1.17->langchain) (1.3.1)\n"
          ]
        }
      ]
    },
    {
      "cell_type": "markdown",
      "source": [
        "news = \"51866453537741018957b8f780932298\"\n",
        "groq = \"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\""
      ],
      "metadata": {
        "id": "DdTLbWAhkv8K"
      }
    },
    {
      "cell_type": "code",
      "source": [
        "from langchain.chat_models import ChatOpenAI # Import the ChatOpenAI class\n",
        "import os\n",
        "import json\n",
        "import getpass\n",
        "import requests\n",
        "from datetime import datetime\n",
        "from sentence_transformers import SentenceTransformer\n",
        "from langchain_groq import ChatGroq\n",
        "from langchain.chains import LLMChain\n",
        "from langchain.prompts import PromptTemplate\n",
        "from langchain_community.vectorstores import FAISS\n",
        "from langchain.text_splitter import RecursiveCharacterTextSplitter\n",
        "\n",
        "# API Key Setup\n",
        "NEWS_API_KEY = os.environ.get(\"NEWS_API_KEY\") or getpass.getpass(\"Enter NewsAPI key: \")\n",
        "GROQ_API_KEY = os.environ.get(\"GROQ_API_KEY\") or getpass.getpass(\"Enter Groq API key: \")\n"
      ],
      "metadata": {
        "colab": {
          "base_uri": "https://localhost:8080/"
        },
        "id": "ZIu7TqJZhifp",
        "outputId": "e73c85ca-f312-4cf8-b0a9-4883783d6a0f"
      },
      "execution_count": 9,
      "outputs": [
        {
          "name": "stdout",
          "output_type": "stream",
          "text": [
            "Enter NewsAPI key: ··········\n",
            "Enter Groq API key: ··········\n"
          ]
        }
      ]
    },
    {
      "cell_type": "code",
      "source": [
        "\n",
        "\n",
        "\n",
        "from langchain_groq import ChatGroq\n",
        "\n",
        "\n",
        "llm = ChatGroq(groq_api_key=GROQ_API_KEY, model_name=\"llama3-8b-8192\", temperature=0.7)  # Use a valid model\n",
        "# Embedding Model (Hugging Face Sentence Transformers)\n",
        "embedding_model = SentenceTransformer(\"all-MiniLM-L6-v2\")\n",
        "\n"
      ],
      "metadata": {
        "id": "r7-CXCo5r9Rg"
      },
      "execution_count": 11,
      "outputs": []
    },
    {
      "cell_type": "code",
      "source": [
        "\n",
        "# User preferences file\n",
        "PREF_FILE = \"user_prefs.json\"\n",
        "\n",
        "# Load or initialize user preferences\n",
        "def load_prefs():\n",
        "    if os.path.exists(PREF_FILE):\n",
        "        with open(PREF_FILE, 'r') as f:\n",
        "            return json.load(f)\n",
        "    return {\"topics\": [], \"history\": []}\n",
        "\n",
        "def save_prefs(prefs):\n",
        "    with open(PREF_FILE, 'w') as f:\n",
        "        json.dump(prefs, f)\n",
        "\n",
        "# Fetch news articles from NewsAPI\n",
        "def fetch_news(topic):\n",
        "    url = f\"https://newsapi.org/v2/everything?q={topic}&apiKey={NEWS_API_KEY}&language=en\"\n",
        "    response = requests.get(url)\n",
        "    if response.status_code == 200:\n",
        "        articles = response.json()[\"articles\"]\n",
        "        return [{\"title\": a[\"title\"], \"content\": a[\"content\"] or a[\"description\"]} for a in articles[:5]]\n",
        "    return []\n",
        "\n",
        "# Vectorize articles using SentenceTransformers\n",
        "\n",
        "############33\n",
        "def vectorize_articles(articles):\n",
        "    texts = [f\"{a['title']}\\n{a['content']}\" for a in articles]\n",
        "    text_splitter = RecursiveCharacterTextSplitter(chunk_size=1000, chunk_overlap=200)\n",
        "    chunks = text_splitter.create_documents(texts)\n",
        "\n",
        "    # Generate text-embedding pairs\n",
        "    text_embedding_pairs = [(chunk.page_content, embedding_model.encode(chunk.page_content)) for chunk in chunks]\n",
        "\n",
        "    return FAISS.from_embeddings(text_embedding_pairs, embedding_model)\n",
        "\n",
        "\n",
        "\n",
        "###################\n",
        "# Summary prompts\n",
        "brief_prompt = PromptTemplate(\n",
        "    input_variables=[\"text\"],\n",
        "    template=\"Summarize this news article in 1-2 sentences:\\n\\n{text}\"\n",
        ")\n",
        "\n",
        "detailed_prompt = PromptTemplate(\n",
        "    input_variables=[\"text\"],\n",
        "    template=\"Provide a detailed paragraph summary of this news article:\\n\\n{text}\"\n",
        ")\n",
        "\n",
        "# Summary chains\n",
        "brief_chain = LLMChain(llm=llm, prompt=brief_prompt)\n",
        "detailed_chain = LLMChain(llm=llm, prompt=detailed_prompt)\n",
        "\n",
        "# Generate summary using Groq\n",
        "def generate_summary(text, summary_type=\"brief\"):\n",
        "    chain = brief_chain if summary_type == \"brief\" else detailed_chain\n",
        "    return chain.invoke({\"text\": text})  # ✅ Updated method\n"
      ],
      "metadata": {
        "id": "950uX6I9hii8"
      },
      "execution_count": 12,
      "outputs": []
    },
    {
      "cell_type": "code",
      "source": [
        "\n",
        "# Main CLI\n",
        "def main():\n",
        "    prefs = load_prefs()\n",
        "\n",
        "    while True:\n",
        "        print(\"\\nNews Summarization App\")\n",
        "        print(\"1. Search for news\")\n",
        "        print(\"2. Add topic preference\")\n",
        "        print(\"3. View saved topics\")\n",
        "        print(\"4. View search history\")\n",
        "        print(\"5. Exit\")\n",
        "\n",
        "        choice = input(\"Enter your choice (1-5): \")\n",
        "\n",
        "        if choice == \"1\":\n",
        "            topic = input(\"Enter news topic: \")\n",
        "            articles = fetch_news(topic)\n",
        "            if not articles:\n",
        "                print(\"No articles found.\")\n",
        "                continue\n",
        "\n",
        "            vector_store = vectorize_articles(articles)\n",
        "            prefs[\"history\"].append({\"topic\": topic, \"date\": str(datetime.now())})\n",
        "            save_prefs(prefs)\n",
        "\n",
        "            print(\"\\nArticles found:\")\n",
        "            for i, article in enumerate(articles, 1):\n",
        "                print(f\"{i}. {article['title']}\")\n",
        "\n",
        "            article_num = int(input(\"Select article number to summarize: \")) - 1\n",
        "            if 0 <= article_num < len(articles):\n",
        "                text = f\"{articles[article_num]['title']}\\n{articles[article_num]['content']}\"\n",
        "                summary_type = input(\"Choose summary type (brief/detailed): \").lower()\n",
        "                summary = generate_summary(text, summary_type)\n",
        "                print(f\"\\nSummary:\\n{summary}\")\n",
        "\n",
        "        elif choice == \"2\":\n",
        "            topic = input(\"Enter topic to save: \")\n",
        "            if topic not in prefs[\"topics\"]:\n",
        "                prefs[\"topics\"].append(topic)\n",
        "                save_prefs(prefs)\n",
        "                print(\"Topic saved!\")\n",
        "\n",
        "        elif choice == \"3\":\n",
        "            print(\"\\nSaved topics:\")\n",
        "            for topic in prefs[\"topics\"]:\n",
        "                print(f\"- {topic}\")\n",
        "\n",
        "        elif choice == \"4\":\n",
        "            print(\"\\nSearch history:\")\n",
        "            for entry in prefs[\"history\"]:\n",
        "                print(f\"- {entry['topic']} ({entry['date']})\")\n",
        "\n",
        "        elif choice == \"5\":\n",
        "            print(\"Goodbye!\")\n",
        "            break\n",
        "\n",
        "        else:\n",
        "            print(\"Invalid choice. Try again.\")\n",
        "\n",
        "if __name__ == \"__main__\":\n",
        "    main()"
      ],
      "metadata": {
        "colab": {
          "base_uri": "https://localhost:8080/"
        },
        "id": "5sj1Lyiphioz",
        "outputId": "0b43bd1a-f4fe-43ef-ffd7-1afa50bd0f17"
      },
      "execution_count": null,
      "outputs": [
        {
          "metadata": {
            "tags": null
          },
          "name": "stdout",
          "output_type": "stream",
          "text": [
            "\n",
            "News Summarization App\n",
            "1. Search for news\n",
            "2. Add topic preference\n",
            "3. View saved topics\n",
            "4. View search history\n",
            "5. Exit\n"
          ]
        },
        {
          "metadata": {
            "tags": null
          },
          "name": "stderr",
          "output_type": "stream",
          "text": [
            "WARNING:langchain_community.vectorstores.faiss:`embedding_function` is expected to be an Embeddings object, support for passing in a function will soon be removed.\n"
          ]
        },
        {
          "metadata": {
            "tags": null
          },
          "name": "stdout",
          "output_type": "stream",
          "text": [
            "\n",
            "Articles found:\n",
            "1. How to Watch Team USA vs. Canada in the NHL 4 Nations Face-Off Tonight\n",
            "2. Amazon Boycott Starts Today; Includes Ring, Twitch, Whole Foods\n",
            "3. Freedom of speech is ‘on the line’ in a pivotal Dakota Access Pipeline trial\n",
            "4. Man City's Rodri returns to individual training\n",
            "5. Underdog Finland aims to spoil Canada-USA II\n",
            "\n",
            "Summary:\n",
            "{'text': 'Here is a 2-sentence summary of the news article:\\n\\nThe 4 Nations Face-Off final between Team USA and Canada will take place on Thursday, February 20th at 8pm ET (5pm PT). The game will air on ESPN and can be watched live.'}\n",
            "\n",
            "News Summarization App\n",
            "1. Search for news\n",
            "2. Add topic preference\n",
            "3. View saved topics\n",
            "4. View search history\n",
            "5. Exit\n",
            "\n",
            "Saved topics:\n",
            "- football\n",
            "\n",
            "News Summarization App\n",
            "1. Search for news\n",
            "2. Add topic preference\n",
            "3. View saved topics\n",
            "4. View search history\n",
            "5. Exit\n",
            "\n",
            "Search history:\n",
            "- football (2025-03-15 16:35:35.166585)\n",
            "- USA (2025-03-15 16:49:43.323282)\n",
            "\n",
            "News Summarization App\n",
            "1. Search for news\n",
            "2. Add topic preference\n",
            "3. View saved topics\n",
            "4. View search history\n",
            "5. Exit\n",
            "Topic saved!\n",
            "\n",
            "News Summarization App\n",
            "1. Search for news\n",
            "2. Add topic preference\n",
            "3. View saved topics\n",
            "4. View search history\n",
            "5. Exit\n"
          ]
        },
        {
          "metadata": {
            "tags": null
          },
          "name": "stderr",
          "output_type": "stream",
          "text": [
            "WARNING:langchain_community.vectorstores.faiss:`embedding_function` is expected to be an Embeddings object, support for passing in a function will soon be removed.\n"
          ]
        },
        {
          "metadata": {
            "tags": null
          },
          "name": "stdout",
          "output_type": "stream",
          "text": [
            "\n",
            "Articles found:\n",
            "1. The Lunar Economy Is Coming\n",
            "2. Infinity Nikki’s spooky new event will put my cheapskate skills to the test\n",
            "3. Madame Web Is the Razzies’ Worst Picture of 2024? In a Joker 2 Economy?\n",
            "4. Europe's Biggest Economy is in Trouble\n",
            "5. How the British Broke Their Own Economy\n",
            "\n",
            "Summary:\n",
            "{'text': 'Here is a detailed paragraph summary of the news article:\\n\\nThe United Kingdom, the cradle of the Industrial Revolution, is now facing the opposite problem: severe energy shortages and deep affordability crises. According to a new report titled \"Foundations\", the country is struggling to recover from its own economic mismanagement. The report highlights the UK\\'s failure to invest in its energy infrastructure, leading to frequent power outages and supply chain disruptions. Furthermore, the country\\'s affordability crisis is exacerbated by high living costs, stagnating wages, and a lack of affordable housing, leaving many citizens struggling to make ends meet. The situation is particularly concerning given Britain\\'s historical reputation as a leader in innovation and economic growth, making its current predicament all the more surprising and concerning.'}\n",
            "\n",
            "News Summarization App\n",
            "1. Search for news\n",
            "2. Add topic preference\n",
            "3. View saved topics\n",
            "4. View search history\n",
            "5. Exit\n"
          ]
        }
      ]
    },
    {
      "cell_type": "code",
      "source": [],
      "metadata": {
        "id": "Ez7KG9Luhiun"
      },
      "execution_count": null,
      "outputs": []
    }
  ]
}